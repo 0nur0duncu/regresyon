{
 "cells": [
  {
   "cell_type": "code",
   "execution_count": 6,
   "id": "01c39650",
   "metadata": {},
   "outputs": [
    {
     "name": "stdout",
     "output_type": "stream",
     "text": [
      "Train R2 Score:  0.4915498954698455\n",
      "Test R2 Score:  0.3031438276396293\n",
      "Ortalama Test Hatası:  0.9584301084717649\n",
      "Ortalama Train Hatası:  1.0420494266419704\n",
      "Sabit Katsayı:  [0.27803791]\n",
      "Ağırlıklar:  [[ 0.0962309   0.27509438  0.29590809  0.00362031  0.15143982 -0.05206352\n",
      "  -0.10299662]]\n"
     ]
    }
   ],
   "source": [
    "%run ./LinearRegression.ipynb"
   ]
  },
  {
   "cell_type": "code",
   "execution_count": 7,
   "id": "973c39b9",
   "metadata": {},
   "outputs": [],
   "source": [
    "from sklearn.linear_model import LinearRegression\n",
    "multilinear_reg = LinearRegression()\n",
    "model = multilinear_reg.fit(x_train,y_train)"
   ]
  },
  {
   "cell_type": "code",
   "execution_count": 8,
   "id": "67e6cbcc",
   "metadata": {},
   "outputs": [
    {
     "data": {
      "text/plain": [
       "array([0.27803791])"
      ]
     },
     "execution_count": 8,
     "metadata": {},
     "output_type": "execute_result"
    }
   ],
   "source": [
    "model.intercept_"
   ]
  },
  {
   "cell_type": "code",
   "execution_count": 10,
   "id": "f0825c42",
   "metadata": {},
   "outputs": [
    {
     "data": {
      "text/plain": [
       "array([[ 0.0962309 ,  0.27509438,  0.29590809,  0.00362031,  0.15143982,\n",
       "        -0.05206352, -0.10299662]])"
      ]
     },
     "execution_count": 10,
     "metadata": {},
     "output_type": "execute_result"
    }
   ],
   "source": [
    "model.coef_"
   ]
  },
  {
   "cell_type": "code",
   "execution_count": 13,
   "id": "960703f0",
   "metadata": {},
   "outputs": [],
   "source": [
    "y_pred = multilinear_reg.predict(x_test)"
   ]
  },
  {
   "cell_type": "code",
   "execution_count": 17,
   "id": "36adfde5",
   "metadata": {},
   "outputs": [],
   "source": [
    "y_tahmin=pd.DataFrame(data=y_pred)\n",
    "y_tahmin.index = y_test.index\n",
    "\n",
    "result = pd.concat([y_tahmin,y_test],axis=1)\n",
    "result.columns =[[\"Tahmin\",\"Gerçek\"]]"
   ]
  },
  {
   "cell_type": "code",
   "execution_count": 20,
   "id": "d8f9340c",
   "metadata": {},
   "outputs": [
    {
     "data": {
      "text/html": [
       "<table class=\"simpletable\">\n",
       "<caption>OLS Regression Results</caption>\n",
       "<tr>\n",
       "  <th>Dep. Variable:</th>           <td>tip</td>       <th>  R-squared:         </th> <td>   0.492</td>\n",
       "</tr>\n",
       "<tr>\n",
       "  <th>Model:</th>                   <td>OLS</td>       <th>  Adj. R-squared:    </th> <td>   0.473</td>\n",
       "</tr>\n",
       "<tr>\n",
       "  <th>Method:</th>             <td>Least Squares</td>  <th>  F-statistic:       </th> <td>   26.26</td>\n",
       "</tr>\n",
       "<tr>\n",
       "  <th>Date:</th>             <td>Wed, 25 Jan 2023</td> <th>  Prob (F-statistic):</th> <td>9.78e-22</td>\n",
       "</tr>\n",
       "<tr>\n",
       "  <th>Time:</th>                 <td>12:25:29</td>     <th>  Log-Likelihood:    </th> <td> -248.22</td>\n",
       "</tr>\n",
       "<tr>\n",
       "  <th>No. Observations:</th>      <td>   170</td>      <th>  AIC:               </th> <td>   510.4</td>\n",
       "</tr>\n",
       "<tr>\n",
       "  <th>Df Residuals:</th>          <td>   163</td>      <th>  BIC:               </th> <td>   532.4</td>\n",
       "</tr>\n",
       "<tr>\n",
       "  <th>Df Model:</th>              <td>     6</td>      <th>                     </th>     <td> </td>   \n",
       "</tr>\n",
       "<tr>\n",
       "  <th>Covariance Type:</th>      <td>nonrobust</td>    <th>                     </th>     <td> </td>   \n",
       "</tr>\n",
       "</table>\n",
       "<table class=\"simpletable\">\n",
       "<tr>\n",
       "       <td></td>         <th>coef</th>     <th>std err</th>      <th>t</th>      <th>P>|t|</th>  <th>[0.025</th>    <th>0.975]</th>  \n",
       "</tr>\n",
       "<tr>\n",
       "  <th>total_bill</th> <td>    0.0962</td> <td>    0.011</td> <td>    8.469</td> <td> 0.000</td> <td>    0.074</td> <td>    0.119</td>\n",
       "</tr>\n",
       "<tr>\n",
       "  <th>size</th>       <td>    0.2751</td> <td>    0.110</td> <td>    2.505</td> <td> 0.013</td> <td>    0.058</td> <td>    0.492</td>\n",
       "</tr>\n",
       "<tr>\n",
       "  <th>smoker_No</th>  <td>    0.2959</td> <td>    0.181</td> <td>    1.637</td> <td> 0.104</td> <td>   -0.061</td> <td>    0.653</td>\n",
       "</tr>\n",
       "<tr>\n",
       "  <th>day_Thur</th>   <td>    0.2817</td> <td>    0.302</td> <td>    0.934</td> <td> 0.352</td> <td>   -0.314</td> <td>    0.877</td>\n",
       "</tr>\n",
       "<tr>\n",
       "  <th>day_Fri</th>    <td>    0.4295</td> <td>    0.343</td> <td>    1.251</td> <td> 0.213</td> <td>   -0.248</td> <td>    1.107</td>\n",
       "</tr>\n",
       "<tr>\n",
       "  <th>day_Sat</th>    <td>    0.2260</td> <td>    0.298</td> <td>    0.759</td> <td> 0.449</td> <td>   -0.362</td> <td>    0.814</td>\n",
       "</tr>\n",
       "<tr>\n",
       "  <th>day_Sun</th>    <td>    0.1750</td> <td>    0.326</td> <td>    0.536</td> <td> 0.593</td> <td>   -0.470</td> <td>    0.820</td>\n",
       "</tr>\n",
       "</table>\n",
       "<table class=\"simpletable\">\n",
       "<tr>\n",
       "  <th>Omnibus:</th>       <td>14.089</td> <th>  Durbin-Watson:     </th> <td>   2.037</td>\n",
       "</tr>\n",
       "<tr>\n",
       "  <th>Prob(Omnibus):</th> <td> 0.001</td> <th>  Jarque-Bera (JB):  </th> <td>  23.778</td>\n",
       "</tr>\n",
       "<tr>\n",
       "  <th>Skew:</th>          <td> 0.423</td> <th>  Prob(JB):          </th> <td>6.86e-06</td>\n",
       "</tr>\n",
       "<tr>\n",
       "  <th>Kurtosis:</th>      <td> 4.625</td> <th>  Cond. No.          </th> <td>    150.</td>\n",
       "</tr>\n",
       "</table><br/><br/>Notes:<br/>[1] Standard Errors assume that the covariance matrix of the errors is correctly specified."
      ],
      "text/plain": [
       "<class 'statsmodels.iolib.summary.Summary'>\n",
       "\"\"\"\n",
       "                            OLS Regression Results                            \n",
       "==============================================================================\n",
       "Dep. Variable:                    tip   R-squared:                       0.492\n",
       "Model:                            OLS   Adj. R-squared:                  0.473\n",
       "Method:                 Least Squares   F-statistic:                     26.26\n",
       "Date:                Wed, 25 Jan 2023   Prob (F-statistic):           9.78e-22\n",
       "Time:                        12:25:29   Log-Likelihood:                -248.22\n",
       "No. Observations:                 170   AIC:                             510.4\n",
       "Df Residuals:                     163   BIC:                             532.4\n",
       "Df Model:                           6                                         \n",
       "Covariance Type:            nonrobust                                         \n",
       "==============================================================================\n",
       "                 coef    std err          t      P>|t|      [0.025      0.975]\n",
       "------------------------------------------------------------------------------\n",
       "total_bill     0.0962      0.011      8.469      0.000       0.074       0.119\n",
       "size           0.2751      0.110      2.505      0.013       0.058       0.492\n",
       "smoker_No      0.2959      0.181      1.637      0.104      -0.061       0.653\n",
       "day_Thur       0.2817      0.302      0.934      0.352      -0.314       0.877\n",
       "day_Fri        0.4295      0.343      1.251      0.213      -0.248       1.107\n",
       "day_Sat        0.2260      0.298      0.759      0.449      -0.362       0.814\n",
       "day_Sun        0.1750      0.326      0.536      0.593      -0.470       0.820\n",
       "==============================================================================\n",
       "Omnibus:                       14.089   Durbin-Watson:                   2.037\n",
       "Prob(Omnibus):                  0.001   Jarque-Bera (JB):               23.778\n",
       "Skew:                           0.423   Prob(JB):                     6.86e-06\n",
       "Kurtosis:                       4.625   Cond. No.                         150.\n",
       "==============================================================================\n",
       "\n",
       "Notes:\n",
       "[1] Standard Errors assume that the covariance matrix of the errors is correctly specified.\n",
       "\"\"\""
      ]
     },
     "execution_count": 20,
     "metadata": {},
     "output_type": "execute_result"
    }
   ],
   "source": [
    "import statsmodels.api as sm\n",
    "lm = sm.OLS(y_train,x_train)\n",
    "model = lm.fit()\n",
    "model.summary()"
   ]
  },
  {
   "cell_type": "code",
   "execution_count": 21,
   "id": "359cca0d",
   "metadata": {},
   "outputs": [
    {
     "name": "stdout",
     "output_type": "stream",
     "text": [
      "Train RMSE:  1.0420494266419704\n",
      "Test RMSE:  0.9584301084717689\n"
     ]
    }
   ],
   "source": [
    "from sklearn.metrics import mean_squared_error\n",
    "rmse = np.sqrt(mean_squared_error(y_train,model.predict(x_train)))\n",
    "print(\"Train RMSE: \",rmse)\n",
    "rmse = np.sqrt(mean_squared_error(y_test,model.predict(x_test)))\n",
    "print(\"Test RMSE: \",rmse)"
   ]
  },
  {
   "cell_type": "code",
   "execution_count": 23,
   "id": "75040cb7",
   "metadata": {},
   "outputs": [
    {
     "name": "stdout",
     "output_type": "stream",
     "text": [
      "Total Bill: 20\n",
      "Size: 5\n",
      "Smoker? (0 & 1): 1\n",
      "is it Thursday: (0 & 1)1\n",
      "is it Friday: (0 & 1)0\n",
      "is it Saturday: (0 & 1)0\n",
      "is it Sunday: (0 & 1)0\n",
      "tahmin:  3.2548129279124076\n"
     ]
    }
   ],
   "source": [
    "total_bill = int(input(\"Total Bill: \"))\n",
    "size = int(input(\"Size: \"))\n",
    "smoker = int(input(\"Smoker? (0 & 1): \"))\n",
    "thursday = int(input(\"is it Thursday: (0 & 1)\"))\n",
    "friday = int(input(\"is it Friday: (0 & 1)\"))\n",
    "saturday = int(input(\"is it Saturday: (0 & 1)\"))\n",
    "sunday = int(input(\"is it Sunday: (0 & 1)\"))\n",
    "\n",
    "tahmin = [total_bill, size, smoker, thursday, friday, saturday, sunday]\n",
    "\n",
    "sabit = multilinear_reg.intercept_[0]\n",
    "total_bill_weight = multilinear_reg.coef_[:,0] * tahmin[0]\n",
    "size_weight = multilinear_reg.coef_[:,0:1] * tahmin[1]\n",
    "smoker_weight = multilinear_reg.coef_[:,1:2] * tahmin[2]\n",
    "Thur_weight = multilinear_reg.coef_[:,2:3] * tahmin[3]\n",
    "Fri_weight = multilinear_reg.coef_[:,3:4] * tahmin[4]\n",
    "Sat_weight = multilinear_reg.coef_[:,4:5] * tahmin[5]\n",
    "Sun_weight = multilinear_reg.coef_[:,5:6] * tahmin[6]\n",
    "\n",
    "result = sabit + total_bill_weight + size_weight + smoker_weight + Thur_weight +Fri_weight + Sat_weight + Sun_weight\n",
    "print(\"tahmin: \",result[:,0][0])"
   ]
  }
 ],
 "metadata": {
  "kernelspec": {
   "display_name": "Python 3 (ipykernel)",
   "language": "python",
   "name": "python3"
  },
  "language_info": {
   "codemirror_mode": {
    "name": "ipython",
    "version": 3
   },
   "file_extension": ".py",
   "mimetype": "text/x-python",
   "name": "python",
   "nbconvert_exporter": "python",
   "pygments_lexer": "ipython3",
   "version": "3.10.8"
  }
 },
 "nbformat": 4,
 "nbformat_minor": 5
}
