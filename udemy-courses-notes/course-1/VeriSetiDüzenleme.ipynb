{
 "cells": [
  {
   "cell_type": "code",
   "execution_count": 24,
   "id": "31be952e",
   "metadata": {},
   "outputs": [],
   "source": [
    "import seaborn as sb #gelişmiş görselleştirme kütüphanesi\n",
    "import pandas as pd\n",
    "\n",
    "data = sb.load_dataset(\"tips\") #uzantı yazılmayacak--tipi pandas...\n",
    "df = pd.DataFrame(data)"
   ]
  },
  {
   "cell_type": "code",
   "execution_count": 25,
   "id": "ff1e3009",
   "metadata": {},
   "outputs": [],
   "source": [
    "from sklearn.impute import SimpleImputer\n",
    "import numpy as np\n",
    "\n",
    "imputer = SimpleImputer(missing_values=np.nan,strategy=\"mean\") #fillna gibi\n",
    "imputer = imputer.fit(df[[\"total_bill\"]])\n",
    "df[[\"total_bill\"]] = imputer.transform(df[[\"total_bill\"]])"
   ]
  },
  {
   "cell_type": "code",
   "execution_count": 26,
   "id": "8d47ea0b",
   "metadata": {},
   "outputs": [],
   "source": [
    "total_bill = df[[\"total_bill\"]]\n",
    "tip = df[[\"tip\"]]\n",
    "size = df[[\"size\"]]"
   ]
  },
  {
   "cell_type": "code",
   "execution_count": 27,
   "id": "7b44e13e",
   "metadata": {},
   "outputs": [],
   "source": [
    "smoker = pd.get_dummies(df[[\"smoker\"]])\n",
    "time = pd.get_dummies(df[[\"day\"]])\n",
    "#result = df[\"day\"].value_counts()"
   ]
  },
  {
   "cell_type": "code",
   "execution_count": 28,
   "id": "2c1b971c",
   "metadata": {},
   "outputs": [],
   "source": [
    "smoker = smoker.drop(\"smoker_Yes\",axis = 1)"
   ]
  },
  {
   "cell_type": "code",
   "execution_count": 29,
   "id": "c89e9d42",
   "metadata": {},
   "outputs": [],
   "source": [
    "new_data = pd.concat([total_bill,size,smoker,time,tip],axis=1)"
   ]
  },
  {
   "cell_type": "code",
   "execution_count": 30,
   "id": "cab30375",
   "metadata": {},
   "outputs": [],
   "source": [
    "training = new_data.iloc[:,0:7]\n",
    "testing = new_data.iloc[:,7:8]"
   ]
  },
  {
   "cell_type": "code",
   "execution_count": 31,
   "id": "3853a367",
   "metadata": {},
   "outputs": [],
   "source": [
    "from sklearn.model_selection import train_test_split\n",
    "x_train,x_test,y_train,y_test = train_test_split(training,testing,test_size = 0.3 ,random_state = 42)"
   ]
  }
 ],
 "metadata": {
  "kernelspec": {
   "display_name": "Python 3 (ipykernel)",
   "language": "python",
   "name": "python3"
  },
  "language_info": {
   "codemirror_mode": {
    "name": "ipython",
    "version": 3
   },
   "file_extension": ".py",
   "mimetype": "text/x-python",
   "name": "python",
   "nbconvert_exporter": "python",
   "pygments_lexer": "ipython3",
   "version": "3.10.8"
  }
 },
 "nbformat": 4,
 "nbformat_minor": 5
}
